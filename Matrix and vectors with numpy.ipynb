{
 "cells": [
  {
   "cell_type": "markdown",
   "metadata": {},
   "source": [
    "### Testing RREF (Reduced Row Echelon Form) ###\n",
    "\n",
    "http://www-lipn.univ-paris13.fr/~coti/doc/tutonympyscipy.pdf\n",
    "\n"
   ]
  },
  {
   "cell_type": "code",
   "execution_count": 1,
   "metadata": {},
   "outputs": [
    {
     "name": "stdout",
     "output_type": "stream",
     "text": [
      "array_m:\n",
      " [[1 2 3 4]\n",
      " [1 1 1 1]\n",
      " [2 3 4 5]]\n",
      "matrix_m:\n",
      " [[1 2 3 4]\n",
      " [1 1 1 1]\n",
      " [2 3 4 5]]\n",
      "permutated matrix: \n",
      " [[1 1 1 1]\n",
      " [1 2 3 4]\n",
      " [2 3 4 5]]\n",
      "array_v:\n",
      " [1 2 3 4]\n",
      "vector_v:\n",
      " [[1]\n",
      " [2]\n",
      " [3]\n",
      " [4]]\n",
      "line vector:\n",
      " [[1 5 7]]\n",
      "array * [1,2,3,4] =\n",
      " [[ 1  4  9 16]\n",
      " [ 1  2  3  4]\n",
      " [ 2  6 12 20]]\n",
      "[1,5,7] * matrix =\n",
      " [[20 28 36 44]]\n",
      "matrix * [1,2,3,4] =\n",
      " [[30]\n",
      " [10]\n",
      " [40]]\n"
     ]
    },
    {
     "ename": "NameError",
     "evalue": "name 'sympy' is not defined",
     "output_type": "error",
     "traceback": [
      "\u001b[0;31m---------------------------------------------------------------------------\u001b[0m",
      "\u001b[0;31mNameError\u001b[0m                                 Traceback (most recent call last)",
      "\u001b[0;32m<ipython-input-1-ffc731bff37d>\u001b[0m in \u001b[0;36m<module>\u001b[0;34m()\u001b[0m\n\u001b[1;32m     35\u001b[0m \u001b[0;34m\u001b[0m\u001b[0m\n\u001b[1;32m     36\u001b[0m \u001b[0;34m\u001b[0m\u001b[0m\n\u001b[0;32m---> 37\u001b[0;31m \u001b[0mmrref\u001b[0m \u001b[0;34m=\u001b[0m \u001b[0msympy\u001b[0m\u001b[0;34m.\u001b[0m\u001b[0mMatrix\u001b[0m\u001b[0;34m(\u001b[0m\u001b[0mmatrix_m\u001b[0m\u001b[0;34m)\u001b[0m\u001b[0;34m.\u001b[0m\u001b[0mrref\u001b[0m\u001b[0;34m(\u001b[0m\u001b[0;34m)\u001b[0m\u001b[0;34m\u001b[0m\u001b[0m\n\u001b[0m\u001b[1;32m     38\u001b[0m \u001b[0mprint\u001b[0m\u001b[0;34m(\u001b[0m\u001b[0mmrref\u001b[0m\u001b[0;34m)\u001b[0m\u001b[0;34m\u001b[0m\u001b[0m\n\u001b[1;32m     39\u001b[0m \u001b[0mmrref\u001b[0m \u001b[0;34m=\u001b[0m \u001b[0mnp\u001b[0m\u001b[0;34m.\u001b[0m\u001b[0mmatrix\u001b[0m\u001b[0;34m(\u001b[0m\u001b[0mnp\u001b[0m\u001b[0;34m.\u001b[0m\u001b[0marray\u001b[0m\u001b[0;34m(\u001b[0m\u001b[0mmrref\u001b[0m\u001b[0;34m[\u001b[0m\u001b[0;36m0\u001b[0m\u001b[0;34m]\u001b[0m\u001b[0;34m.\u001b[0m\u001b[0mtolist\u001b[0m\u001b[0;34m(\u001b[0m\u001b[0;34m)\u001b[0m\u001b[0;34m,\u001b[0m \u001b[0mdtype\u001b[0m\u001b[0;34m=\u001b[0m\u001b[0mint\u001b[0m\u001b[0;34m)\u001b[0m\u001b[0;34m)\u001b[0m\u001b[0;34m\u001b[0m\u001b[0m\n",
      "\u001b[0;31mNameError\u001b[0m: name 'sympy' is not defined"
     ]
    }
   ],
   "source": [
    "import numpy as np\n",
    "\n",
    "array_m = np.array([\n",
    "                    [1,2,3,4],\n",
    "                    [1,1,1,1],\n",
    "                    [2,3,4,5]])\n",
    "\n",
    "permutation_matrix = np.matrix([\n",
    "                    [0,1,0,],\n",
    "                    [1,0,0,],\n",
    "                    [0,0,1,]])\n",
    "\n",
    "line_vector = np.array([1,5,7]).reshape(1,3)\n",
    "\n",
    "print('array_m:\\n', array_m)\n",
    "matrix_m = np.matrix(array_m)\n",
    "print('matrix_m:\\n', matrix_m)\n",
    "\n",
    "print('permutated matrix: \\n', permutation_matrix * matrix_m)\n",
    "\n",
    "array_v = np.array([1,2,3,4])\n",
    "print('array_v:\\n', array_v)\n",
    "# column vector}\n",
    "vector_v = array_v.reshape(4,1)\n",
    "print('vector_v:\\n', vector_v)\n",
    "\n",
    "print('line vector:\\n', line_vector)\n",
    "\n",
    "#vector_v = np.vectorize(array_v)\n",
    "#print('vector_v:\\n', vector_v)\n",
    "\n",
    "print('array * [1,2,3,4] =\\n', array_m*array_v)\n",
    "print('[1,5,7] * matrix =\\n',line_vector*matrix_m)\n",
    "print('matrix * [1,2,3,4] =\\n',matrix_m*vector_v)\n",
    "\n",
    "\n",
    "mrref = sympy.Matrix(matrix_m).rref()\n",
    "print(mrref)\n",
    "mrref = np.matrix(np.array(mrref[0].tolist(), dtype=int))\n",
    "print(mrref)\n",
    "\n",
    "print('mref * [1,2,3,4] =\\n', mrref*vector_v)\n",
    "print('mref * [1,2,3,4] =\\n',line_vector* mrref)\n"
   ]
  },
  {
   "cell_type": "markdown",
   "metadata": {},
   "source": [
    "## R = n < m, 0 or 1 solution"
   ]
  },
  {
   "cell_type": "code",
   "execution_count": 2,
   "metadata": {},
   "outputs": [
    {
     "data": {
      "text/plain": [
       "(Matrix([\n",
       " [1.0,   0],\n",
       " [  0, 1.0],\n",
       " [  0,   0],\n",
       " [  0,   0]]), [0, 1])"
      ]
     },
     "execution_count": 2,
     "metadata": {},
     "output_type": "execute_result"
    }
   ],
   "source": [
    "\n",
    "import numpy as np\n",
    "import sympy\n",
    "\n",
    "A = np.matrix([\n",
    "        [3,2],\n",
    "        [5,4],\n",
    "        [-1,10],\n",
    "        [4,1]\n",
    "])\n",
    "\n",
    "sympy.Matrix(A).rref()\n",
    "\n"
   ]
  },
  {
   "cell_type": "markdown",
   "metadata": {
    "collapsed": true
   },
   "source": [
    "## R = m < n, Inifinity of solutions##  Case where we have more unknown than equations\n",
    "This case is in the course 9. \n",
    "Suppose A is m by n, with m < n. Then there are non zero solutions to Ax = 0.\n",
    "** Reason is : there will be free variables **\n"
   ]
  },
  {
   "cell_type": "code",
   "execution_count": 3,
   "metadata": {},
   "outputs": [
    {
     "name": "stdout",
     "output_type": "stream",
     "text": [
      "(Matrix([\n",
      "[1, 0, -27, 11/2],\n",
      "[0, 1,  16, -5/2]]), [0, 1])\n",
      "Matrix([[1], [1], [3], [4]])\n",
      "[]\n",
      "{y: -16*z - 5/2, x: 27*z + 11/2}\n",
      "{y: -16*z - 5/2, x: 27*z + 11/2}\n"
     ]
    }
   ],
   "source": [
    "\n",
    "import numpy as np\n",
    "import sympy\n",
    "\n",
    "A = sympy.Matrix([\n",
    "        [3,5,-1,4],\n",
    "        [2,4,10,1]\n",
    "])\n",
    "\n",
    "R = sympy.Matrix(A).rref()\n",
    "print(R)\n",
    "\n",
    "b = sympy.Matrix([1,1,3,4]) # choose whatever I want, there will always be an infinity of solution...\n",
    "x, y, z = sympy.symbols('x, y, z')\n",
    "print(b)\n",
    "#soln = A.LUsolve(b)\n",
    "\n",
    "#soln = A.solve(b)\n",
    "soln = sympy.solve_linear_system(A,b)\n",
    "print(soln)\n",
    "soln = sympy.solve_linear_system(A,x,y,z)\n",
    "print(soln)\n",
    "\n",
    "# Ax = 0\n",
    "b = sympy.Matrix([0,0,0,0]) # choose whatever I want, there will always be an infinity of solution...\n",
    "soln = sympy.solve_linear_system(A,x,y,z)\n",
    "print(soln)"
   ]
  },
  {
   "cell_type": "markdown",
   "metadata": {},
   "source": [
    "## r < m, r < n, 0 or infinity of solutions\n"
   ]
  },
  {
   "cell_type": "code",
   "execution_count": 4,
   "metadata": {},
   "outputs": [
    {
     "data": {
      "text/plain": [
       "(Matrix([\n",
       " [1.0,   0, -27.0],\n",
       " [  0, 1.0,  16.0],\n",
       " [  0,   0,     0]]), [0, 1])"
      ]
     },
     "execution_count": 4,
     "metadata": {},
     "output_type": "execute_result"
    }
   ],
   "source": [
    "\n",
    "import numpy as np\n",
    "import sympy\n",
    "\n",
    "A = np.matrix([\n",
    "        [3,5,-1],\n",
    "        [6,10,-2],\n",
    "        [2,4,10]\n",
    "])\n",
    "\n",
    "sympy.Matrix(A).rref()"
   ]
  },
  {
   "cell_type": "markdown",
   "metadata": {},
   "source": [
    "\n",
    "## r = m = n, exactly one solution"
   ]
  },
  {
   "cell_type": "code",
   "execution_count": 5,
   "metadata": {},
   "outputs": [
    {
     "name": "stdout",
     "output_type": "stream",
     "text": [
      "(Matrix([\n",
      "[1, 0, 0],\n",
      "[0, 1, 0],\n",
      "[0, 0, 1]]), [0, 1, 2])\n",
      "Matrix([[3], [7], [5]])\n",
      "Matrix([[-41/32], [4/3], [-17/96]])\n"
     ]
    }
   ],
   "source": [
    "\n",
    "import numpy as np\n",
    "import sympy\n",
    "\n",
    "A = sympy.Matrix([\n",
    "        [3,5,-1],\n",
    "        [6,7,-2],\n",
    "        [2,4,10]\n",
    "])\n",
    "\n",
    "R = sympy.Matrix(A).rref()\n",
    "print(R)\n",
    "x = sympy.Matrix(3,1,[3,7,5])\n",
    "b = A*x\n",
    "soln = A.LUsolve(b)\n",
    "print(soln)\n",
    "\n",
    "b = sympy.Matrix(3,1,[3,2,1]) # choose whatever I want, there will always be on solution...\n",
    "soln = A.LUsolve(b)\n",
    "print(soln)\n"
   ]
  },
  {
   "cell_type": "code",
   "execution_count": 6,
   "metadata": {},
   "outputs": [
    {
     "data": {
      "text/latex": [
       "$$\\left[\\begin{matrix}1 & 2 & 3\\end{matrix}\\right]$$"
      ],
      "text/plain": [
       "[1  2  3]"
      ]
     },
     "execution_count": 6,
     "metadata": {},
     "output_type": "execute_result"
    }
   ],
   "source": [
    "import sympy\n",
    "from sympy.interactive.printing import init_printing\n",
    "init_printing(use_unicode=False, wrap_line=False, no_global=True)\n",
    "\n",
    "sympy.Matrix([[1, 2, 3]])"
   ]
  },
  {
   "cell_type": "code",
   "execution_count": 7,
   "metadata": {},
   "outputs": [
    {
     "data": {
      "text/latex": [
       "$$\\left[\\begin{matrix}1\\\\2\\\\3\\end{matrix}\\right]$$"
      ],
      "text/plain": [
       "[1]\n",
       "[ ]\n",
       "[2]\n",
       "[ ]\n",
       "[3]"
      ]
     },
     "execution_count": 7,
     "metadata": {},
     "output_type": "execute_result"
    }
   ],
   "source": [
    "sympy.Matrix([1, 2, 3])"
   ]
  },
  {
   "cell_type": "markdown",
   "metadata": {
    "collapsed": true
   },
   "source": [
    "## Check that a bunch of vectors is a BASIS"
   ]
  },
  {
   "cell_type": "code",
   "execution_count": 8,
   "metadata": {},
   "outputs": [
    {
     "name": "stdout",
     "output_type": "stream",
     "text": [
      "(Matrix([\n",
      "[1.0,   0,   0],\n",
      "[  0, 1.0,   0],\n",
      "[  0,   0, 1.0]]), [0, 1, 2])\n"
     ]
    },
    {
     "data": {
      "text/latex": [
       "$$\\left ( \\left[\\begin{matrix}1.0 & 0 & -1.0\\\\0 & 1.0 & 2.0\\\\0 & 0 & 0\\end{matrix}\\right], \\quad \\left [ 0, \\quad 1\\right ]\\right )$$"
      ],
      "text/plain": [
       "([1.0   0   -1.0], [0, 1])\n",
       " [              ]         \n",
       " [ 0   1.0  2.0 ]         \n",
       " [              ]         \n",
       " [ 0    0    0  ]         "
      ]
     },
     "execution_count": 8,
     "metadata": {},
     "output_type": "execute_result"
    }
   ],
   "source": [
    "\n",
    "import numpy as np\n",
    "import sympy\n",
    "\n",
    "A = np.matrix([\n",
    "        [1,2,3],\n",
    "        [1,2,4],\n",
    "        [2,5,8]\n",
    "])\n",
    "\n",
    "print(sympy.Matrix(A).rref())\n",
    "\n",
    "# but this one not (not invertible, so it is not a BASIS)\n",
    "A = np.matrix([\n",
    "        [1,2,3],\n",
    "        [1,2,3],\n",
    "        [2,5,8]\n",
    "])\n",
    "\n",
    "sympy.Matrix(A).rref()"
   ]
  },
  {
   "cell_type": "code",
   "execution_count": 9,
   "metadata": {},
   "outputs": [
    {
     "name": "stdout",
     "output_type": "stream",
     "text": [
      "(Matrix([\n",
      "[1, 0, 1, 1],\n",
      "[0, 1, 1, 0],\n",
      "[0, 0, 0, 0]]), [0, 1])\n",
      "Matrix([[1], [1], [3], [4]])\n",
      "[]\n",
      "{y: -z, x: -z + 1}\n"
     ]
    }
   ],
   "source": [
    "import numpy as np\n",
    "import sympy\n",
    "\n",
    "A = sympy.Matrix([\n",
    "        [1,2,3,1],\n",
    "        [1,1,2,1],\n",
    "        [1,2,3,1]\n",
    "])\n",
    "\n",
    "R = sympy.Matrix(A).rref()\n",
    "print(R)\n",
    "\n",
    "b = sympy.Matrix([1,1,3,4]) # choose whatever I want, there will always be an infinity of solution...\n",
    "x, y, z = sympy.symbols('x, y, z')\n",
    "print(b)\n",
    "#soln = A.LUsolve(b)\n",
    "\n",
    "#soln = A.solve(b)\n",
    "soln = sympy.solve_linear_system(A,b)\n",
    "print(soln)\n",
    "soln = sympy.solve_linear_system(A,x,y,z)\n",
    "print(soln)\n"
   ]
  },
  {
   "cell_type": "code",
   "execution_count": 10,
   "metadata": {},
   "outputs": [
    {
     "name": "stdout",
     "output_type": "stream",
     "text": [
      "EP =  Matrix([[3.23606797749979, -1.23606797749979], [5.23606797749979, 0.763932022500210]])\n",
      "EP =  Matrix([[6.47213595499958, -2.47213595499958], [10.4721359549996, 1.52786404500042]])\n",
      "Matrix([[3.23606797749979, -1.11022302462516e-16], [0, -1.23606797749979]])\n",
      "Matrix([[-9.70820393249937, -6.00000000000000], [6, 12]])\n"
     ]
    }
   ],
   "source": [
    "import sympy\n",
    "import math\n",
    "\n",
    "A = sympy.Matrix([\n",
    "        [0,1],\n",
    "        [1,1]\n",
    "])\n",
    "\n",
    "E = sympy.Matrix([\n",
    "    [2,2],\n",
    "    [1+math.sqrt(5), 1-math.sqrt(5)]\n",
    "])\n",
    "\n",
    "EP = A*E\n",
    "print('EP = ', EP)\n",
    "EP = 2*EP\n",
    "print('EP = ', EP)\n",
    "\n",
    "Res = E.inv() * EP\n",
    "print(Res)\n",
    "\n",
    "print(A.inv()*(E+E+E)*A)\n"
   ]
  },
  {
   "cell_type": "code",
   "execution_count": 11,
   "metadata": {},
   "outputs": [
    {
     "ename": "NameError",
     "evalue": "name 'numpy' is not defined",
     "output_type": "error",
     "traceback": [
      "\u001b[0;31m---------------------------------------------------------------------------\u001b[0m",
      "\u001b[0;31mNameError\u001b[0m                                 Traceback (most recent call last)",
      "\u001b[0;32m<ipython-input-11-4eb646ec0691>\u001b[0m in \u001b[0;36m<module>\u001b[0;34m()\u001b[0m\n\u001b[1;32m      3\u001b[0m \u001b[0;32mimport\u001b[0m \u001b[0mnumpy\u001b[0m \u001b[0;32mas\u001b[0m \u001b[0mnp\u001b[0m\u001b[0;34m\u001b[0m\u001b[0m\n\u001b[1;32m      4\u001b[0m \u001b[0;34m\u001b[0m\u001b[0m\n\u001b[0;32m----> 5\u001b[0;31m A = numpy.array([\n\u001b[0m\u001b[1;32m      6\u001b[0m         \u001b[0;34m[\u001b[0m\u001b[0;36m0\u001b[0m\u001b[0;34m,\u001b[0m\u001b[0;36m1\u001b[0m\u001b[0;34m]\u001b[0m\u001b[0;34m,\u001b[0m\u001b[0;34m\u001b[0m\u001b[0m\n\u001b[1;32m      7\u001b[0m         \u001b[0;34m[\u001b[0m\u001b[0;36m1\u001b[0m\u001b[0;34m,\u001b[0m\u001b[0;36m1\u001b[0m\u001b[0;34m]\u001b[0m\u001b[0;34m\u001b[0m\u001b[0m\n",
      "\u001b[0;31mNameError\u001b[0m: name 'numpy' is not defined"
     ]
    }
   ],
   "source": [
    "## the same with numpy only\n",
    "import math\n",
    "import numpy as np\n",
    "\n",
    "A = numpy.array([\n",
    "        [0,1],\n",
    "        [1,1]\n",
    "])\n",
    "\n",
    "E = numpy.array([\n",
    "    [2,2],\n",
    "    [1+math.sqrt(5), 1-math.sqrt(5)]\n",
    "])\n",
    "\n",
    "EP = np.dot(A,E)\n",
    "print('EP = ', EP)\n",
    "EP = 2*EP\n",
    "print('EP = ', EP)\n",
    "Res = E.inv() * EP\n",
    "print(Res)\n",
    "\n",
    "print(A.inv()*(E+E+E)*A)\n"
   ]
  },
  {
   "cell_type": "code",
   "execution_count": 12,
   "metadata": {},
   "outputs": [
    {
     "name": "stdout",
     "output_type": "stream",
     "text": [
      "195\n",
      "EigenValues :  {12/(4*sqrt(61) + 52)**(1/3) + (4*sqrt(61) + 52)**(1/3) + 7: 1, 7 + (-1/2 - sqrt(3)*I/2)*(4*sqrt(61) + 52)**(1/3) + 12/((-1/2 - sqrt(3)*I/2)*(4*sqrt(61) + 52)**(1/3)): 1, 7 + 12/((-1/2 + sqrt(3)*I/2)*(4*sqrt(61) + 52)**(1/3)) + (-1/2 + sqrt(3)*I/2)*(4*sqrt(61) + 52)**(1/3): 1}\n",
      "-1\n",
      "EigenValues :  {1/2 + sqrt(5)/2: 1, -sqrt(5)/2 + 1/2: 1}\n",
      "EigenVectors :  [(1/2 + sqrt(5)/2, 1, [Matrix([\n",
      "[-1/(-sqrt(5)/2 + 1/2)],\n",
      "[                    1]])]), (-sqrt(5)/2 + 1/2, 1, [Matrix([\n",
      "[-1/(1/2 + sqrt(5)/2)],\n",
      "[                   1]])])]\n"
     ]
    }
   ],
   "source": [
    "import sympy\n",
    "\n",
    "A = sympy.Matrix([\n",
    "        [5,2,1],\n",
    "        [4,7,6],\n",
    "        [6,3,9]\n",
    "    ])\n",
    "\n",
    "print(A.det())\n",
    "\n",
    "print('EigenValues : ', A.eigenvals())\n",
    "#print('EigenVectors : ', A.eigenvects())\n",
    "\n",
    "A = sympy.Matrix([\n",
    "        [1,1],\n",
    "        [1,0]\n",
    "])\n",
    "\n",
    "print(A.det())\n",
    "\n",
    "print('EigenValues : ', A.eigenvals())\n",
    "print('EigenVectors : ', A.eigenvects())\n"
   ]
  },
  {
   "cell_type": "code",
   "execution_count": 13,
   "metadata": {},
   "outputs": [
    {
     "name": "stdout",
     "output_type": "stream",
     "text": [
      "[ 14.11461811+0.j           3.44269094+1.40119349j   3.44269094-1.40119349j] [[ 0.22779400+0.j         -0.21449442-0.50487372j -0.21449442+0.50487372j]\n",
      " [ 0.69939706+0.j          0.63851462+0.j          0.63851462-0.j        ]\n",
      " [ 0.67746117+0.j         -0.23556936+0.48569623j -0.23556936-0.48569623j]]\n",
      "[ 1.61803399 -0.61803399] [[ 0.85065081 -0.52573111]\n",
      " [ 0.52573111  0.85065081]]\n"
     ]
    }
   ],
   "source": [
    "import numpy as np\n",
    "from numpy import linalg as LA\n",
    "w, v = LA.eig(np.array([\n",
    "        [5,2,1],\n",
    "        [4,7,6],\n",
    "        [6,3,9]\n",
    "    ]))\n",
    "print(w, v)\n",
    "w, v = LA.eig(np.array([\n",
    "        [1,1],\n",
    "        [1,0]\n",
    "    ]))\n",
    "print(w, v)\n"
   ]
  },
  {
   "cell_type": "code",
   "execution_count": 14,
   "metadata": {},
   "outputs": [
    {
     "name": "stdout",
     "output_type": "stream",
     "text": [
      "Sum =  1.5\n",
      "1/(1-x) =  1.4999999999999998\n"
     ]
    }
   ],
   "source": [
    "#1/(1-x) = SUM(x**n)\n",
    "\n",
    "x = (1/3) # cas intéressant\n",
    "s = 0\n",
    "for i in range(100):\n",
    "    s = s + x**i\n",
    "\n",
    "print('Sum = ', s)\n",
    "print('1/(1-x) = ', 1/(1-x))"
   ]
  },
  {
   "cell_type": "code",
   "execution_count": null,
   "metadata": {},
   "outputs": [],
   "source": []
  },
  {
   "cell_type": "code",
   "execution_count": null,
   "metadata": {},
   "outputs": [],
   "source": []
  }
 ],
 "metadata": {
  "kernelspec": {
   "display_name": "Python 3",
   "language": "python",
   "name": "python3"
  },
  "language_info": {
   "codemirror_mode": {
    "name": "ipython",
    "version": 3
   },
   "file_extension": ".py",
   "mimetype": "text/x-python",
   "name": "python",
   "nbconvert_exporter": "python",
   "pygments_lexer": "ipython3",
   "version": "3.5.4"
  }
 },
 "nbformat": 4,
 "nbformat_minor": 1
}
